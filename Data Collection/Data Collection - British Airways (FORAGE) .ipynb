{
 "cells": [
  {
   "cell_type": "markdown",
   "id": "52f1e21f",
   "metadata": {},
   "source": [
    "# Data Collection"
   ]
  },
  {
   "cell_type": "markdown",
   "id": "ed447486",
   "metadata": {},
   "source": [
    "Importing libraries"
   ]
  },
  {
   "cell_type": "code",
   "execution_count": 3,
   "id": "5137f12a",
   "metadata": {},
   "outputs": [],
   "source": [
    "import pandas as pd\n",
    "import numpy as np\n",
    "from bs4 import BeautifulSoup\n",
    "import requests"
   ]
  },
  {
   "cell_type": "markdown",
   "id": "7707b3b4",
   "metadata": {},
   "source": [
    "Creating empty lists to collect informations"
   ]
  },
  {
   "cell_type": "code",
   "execution_count": 4,
   "id": "93ae0814",
   "metadata": {},
   "outputs": [],
   "source": [
    "reviews = []\n",
    "\n",
    "stars = []\n",
    "\n",
    "date = []\n",
    "\n",
    "country = []"
   ]
  },
  {
   "cell_type": "code",
   "execution_count": 6,
   "id": "4e521d05",
   "metadata": {},
   "outputs": [],
   "source": [
    "for i in range(1,36):\n",
    "    page = requests.get(f\"https://www.airlinequality.com/airline-reviews/british-airways\")\n",
    "    \n",
    "    soup = BeautifulSoup(page.content)\n",
    "    \n",
    "    for item in soup.find_all(\"div\", class_ = \"text_content\"):\n",
    "        reviews.append(item.text)\n",
    "        \n",
    "    for item in soup.find_all(\"div\", class_ = \"rating-10\"):\n",
    "        try:\n",
    "            stars.append(item.span.text)\n",
    "        except:\n",
    "            print(f\"Error on page {i}\")\n",
    "            stars.append(\"None\")\n",
    "            \n",
    "    for item in soup.find_all(\"time\"):\n",
    "        date.append(item.text)\n",
    "        \n",
    "    for item in soup.find_all(\"h3\"):\n",
    "        country.append(item.span.next_sibling.text.strip(\"()\"))\n",
    "    "
   ]
  },
  {
   "cell_type": "markdown",
   "id": "d9a6badd",
   "metadata": {},
   "source": [
    "Check the length of total reviews extracted"
   ]
  },
  {
   "cell_type": "code",
   "execution_count": 7,
   "id": "5de9f724",
   "metadata": {},
   "outputs": [
    {
     "data": {
      "text/plain": [
       "350"
      ]
     },
     "execution_count": 7,
     "metadata": {},
     "output_type": "execute_result"
    }
   ],
   "source": [
    "len(reviews)"
   ]
  },
  {
   "cell_type": "code",
   "execution_count": 8,
   "id": "6af5f61a",
   "metadata": {},
   "outputs": [
    {
     "data": {
      "text/plain": [
       "350"
      ]
     },
     "execution_count": 8,
     "metadata": {},
     "output_type": "execute_result"
    }
   ],
   "source": [
    "len(country)"
   ]
  },
  {
   "cell_type": "code",
   "execution_count": 11,
   "id": "22044633",
   "metadata": {},
   "outputs": [],
   "source": [
    "stars = stars[:350]"
   ]
  },
  {
   "cell_type": "markdown",
   "id": "bbde8b62",
   "metadata": {},
   "source": [
    "Create a dataframe from these collected lists of data"
   ]
  },
  {
   "cell_type": "code",
   "execution_count": 14,
   "id": "7d945b2f",
   "metadata": {},
   "outputs": [],
   "source": [
    "df = pd.DataFrame({\"reviews\":reviews, \"stars\":stars, \"date\":date, \"country\":country})"
   ]
  },
  {
   "cell_type": "code",
   "execution_count": 15,
   "id": "dfd2337f",
   "metadata": {},
   "outputs": [
    {
     "data": {
      "text/plain": [
       "<bound method NDFrame.head of                                                reviews  \\\n",
       "0    ✅ Trip Verified |  We chose Rotterdam and Lond...   \n",
       "1    ✅ Trip Verified | The entire booking and ticke...   \n",
       "2    Not Verified |   British Airways cancelled my ...   \n",
       "3    Not Verified | I wanted to write this review s...   \n",
       "4    ✅ Trip Verified |  Check in fast and friendly....   \n",
       "..                                                 ...   \n",
       "345  ✅ Trip Verified |  This is the first time I ha...   \n",
       "346  ✅ Trip Verified |  Flew business class from Do...   \n",
       "347  ✅ Trip Verified |  Starting off at Heathrow Te...   \n",
       "348  Not Verified |  We have flown this route with ...   \n",
       "349  ✅ Trip Verified | A last minute business trip ...   \n",
       "\n",
       "                             stars             date             country  \n",
       "0    \\n\\t\\t\\t\\t\\t\\t\\t\\t\\t\\t\\t\\t\\t5  12th April 2024      (Netherlands)   \n",
       "1                                6  10th April 2024    (United States)   \n",
       "2                                1  10th April 2024    (United States)   \n",
       "3                                1   7th April 2024    (United States)   \n",
       "4                               10   3rd April 2024   (United Kingdom)   \n",
       "..                             ...              ...                 ...  \n",
       "345                             10   2nd April 2024   (United Kingdom)   \n",
       "346                              7   2nd April 2024   (United Kingdom)   \n",
       "347                              3  28th March 2024   (United Kingdom)   \n",
       "348                              4  28th March 2024   (United Kingdom)   \n",
       "349                              8  26th March 2024   (United Kingdom)   \n",
       "\n",
       "[350 rows x 4 columns]>"
      ]
     },
     "execution_count": 15,
     "metadata": {},
     "output_type": "execute_result"
    }
   ],
   "source": [
    "df.head"
   ]
  },
  {
   "cell_type": "code",
   "execution_count": 16,
   "id": "6602db9a",
   "metadata": {},
   "outputs": [
    {
     "data": {
      "text/plain": [
       "(350, 4)"
      ]
     },
     "execution_count": 16,
     "metadata": {},
     "output_type": "execute_result"
    }
   ],
   "source": [
    "df.shape"
   ]
  },
  {
   "cell_type": "markdown",
   "id": "82242dc2",
   "metadata": {},
   "source": [
    "Export the data into csv"
   ]
  },
  {
   "cell_type": "code",
   "execution_count": 17,
   "id": "1baba7e1",
   "metadata": {},
   "outputs": [],
   "source": [
    "import os\n",
    "\n",
    "cwd = os.getcwd()\n",
    "df.to_csv(cwd+ \"/BA_reviews.csv\")"
   ]
  },
  {
   "cell_type": "code",
   "execution_count": null,
   "id": "12dddd14",
   "metadata": {},
   "outputs": [],
   "source": []
  }
 ],
 "metadata": {
  "kernelspec": {
   "display_name": "Python 3 (ipykernel)",
   "language": "python",
   "name": "python3"
  },
  "language_info": {
   "codemirror_mode": {
    "name": "ipython",
    "version": 3
   },
   "file_extension": ".py",
   "mimetype": "text/x-python",
   "name": "python",
   "nbconvert_exporter": "python",
   "pygments_lexer": "ipython3",
   "version": "3.9.12"
  }
 },
 "nbformat": 4,
 "nbformat_minor": 5
}
